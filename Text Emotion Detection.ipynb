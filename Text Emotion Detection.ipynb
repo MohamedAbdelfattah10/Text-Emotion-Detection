{
 "cells": [
  {
   "cell_type": "code",
   "execution_count": 21,
   "id": "1cee927e",
   "metadata": {},
   "outputs": [],
   "source": [
    "from transformers import pipeline"
   ]
  },
  {
   "cell_type": "code",
   "execution_count": 22,
   "id": "a865eb70",
   "metadata": {},
   "outputs": [
    {
     "name": "stderr",
     "output_type": "stream",
     "text": [
      "All model checkpoint layers were used when initializing TFRobertaForSequenceClassification.\n",
      "\n",
      "All the layers of TFRobertaForSequenceClassification were initialized from the model checkpoint at arpanghoshal/EmoRoBERTa.\n",
      "If your task is similar to the task the model of the checkpoint was trained on, you can already use TFRobertaForSequenceClassification for predictions without further training.\n"
     ]
    }
   ],
   "source": [
    "emotion = pipeline('sentiment-analysis', model='arpanghoshal/EmoRoBERTa')"
   ]
  },
  {
   "cell_type": "code",
   "execution_count": 23,
   "id": "c93dcc3b",
   "metadata": {},
   "outputs": [],
   "source": [
    "import pandas as pd\n",
    "large_text = pd.read_csv('https://github.com/abishekarun/Text-Emotion-Classification/blob/master/text_emotion.csv?raw=true')"
   ]
  },
  {
   "cell_type": "code",
   "execution_count": 24,
   "id": "01c2d11f",
   "metadata": {},
   "outputs": [],
   "source": [
    "large_text = large_text[:100]"
   ]
  },
  {
   "cell_type": "code",
   "execution_count": 25,
   "id": "8e3f2b5e",
   "metadata": {},
   "outputs": [
    {
     "data": {
      "text/plain": [
       "1    [{'label': 'neutral', 'score': 0.9288994073867...\n",
       "2      [{'label': 'joy', 'score': 0.7030642628669739}]\n",
       "3      [{'label': 'joy', 'score': 0.5057836174964905}]\n",
       "4    [{'label': 'desire', 'score': 0.80342680215835...\n",
       "5    [{'label': 'neutral', 'score': 0.9537404775619...\n",
       "6    [{'label': 'neutral', 'score': 0.3837691247463...\n",
       "7    [{'label': 'approval', 'score': 0.636143803596...\n",
       "8     [{'label': 'love', 'score': 0.9831995964050293}]\n",
       "9    [{'label': 'remorse', 'score': 0.4822772443294...\n",
       "Name: content, dtype: object"
      ]
     },
     "execution_count": 25,
     "metadata": {},
     "output_type": "execute_result"
    }
   ],
   "source": [
    "large_text['content'][1:10].apply(emotion)\n"
   ]
  },
  {
   "cell_type": "code",
   "execution_count": 26,
   "id": "1890e448",
   "metadata": {},
   "outputs": [],
   "source": [
    "def get_emotion_label(text):\n",
    "  return(emotion(text)[0]['label'])"
   ]
  },
  {
   "cell_type": "code",
   "execution_count": 28,
   "id": "d41b9edd",
   "metadata": {},
   "outputs": [
    {
     "data": {
      "text/plain": [
       "1     neutral\n",
       "2         joy\n",
       "3         joy\n",
       "4      desire\n",
       "5     neutral\n",
       "6     neutral\n",
       "7    approval\n",
       "8        love\n",
       "9     remorse\n",
       "Name: content, dtype: object"
      ]
     },
     "execution_count": 28,
     "metadata": {},
     "output_type": "execute_result"
    }
   ],
   "source": [
    "large_text['content'][1:10].apply(get_emotion_label)"
   ]
  },
  {
   "cell_type": "code",
   "execution_count": 29,
   "id": "53b20c35",
   "metadata": {},
   "outputs": [],
   "source": [
    "large_text['emotion'] = large_text['content'].apply(get_emotion_label)\n"
   ]
  },
  {
   "cell_type": "code",
   "execution_count": 30,
   "id": "b7b28100",
   "metadata": {},
   "outputs": [
    {
     "data": {
      "text/html": [
       "<div>\n",
       "<style scoped>\n",
       "    .dataframe tbody tr th:only-of-type {\n",
       "        vertical-align: middle;\n",
       "    }\n",
       "\n",
       "    .dataframe tbody tr th {\n",
       "        vertical-align: top;\n",
       "    }\n",
       "\n",
       "    .dataframe thead th {\n",
       "        text-align: right;\n",
       "    }\n",
       "</style>\n",
       "<table border=\"1\" class=\"dataframe\">\n",
       "  <thead>\n",
       "    <tr style=\"text-align: right;\">\n",
       "      <th></th>\n",
       "      <th>tweet_id</th>\n",
       "      <th>sentiment</th>\n",
       "      <th>author</th>\n",
       "      <th>content</th>\n",
       "      <th>emotion</th>\n",
       "    </tr>\n",
       "  </thead>\n",
       "  <tbody>\n",
       "    <tr>\n",
       "      <th>0</th>\n",
       "      <td>1956967341</td>\n",
       "      <td>empty</td>\n",
       "      <td>xoshayzers</td>\n",
       "      <td>@tiffanylue i know  i was listenin to bad habi...</td>\n",
       "      <td>neutral</td>\n",
       "    </tr>\n",
       "    <tr>\n",
       "      <th>1</th>\n",
       "      <td>1956967666</td>\n",
       "      <td>sadness</td>\n",
       "      <td>wannamama</td>\n",
       "      <td>Layin n bed with a headache  ughhhh...waitin o...</td>\n",
       "      <td>neutral</td>\n",
       "    </tr>\n",
       "    <tr>\n",
       "      <th>2</th>\n",
       "      <td>1956967696</td>\n",
       "      <td>sadness</td>\n",
       "      <td>coolfunky</td>\n",
       "      <td>Funeral ceremony...gloomy friday...</td>\n",
       "      <td>joy</td>\n",
       "    </tr>\n",
       "    <tr>\n",
       "      <th>3</th>\n",
       "      <td>1956967789</td>\n",
       "      <td>enthusiasm</td>\n",
       "      <td>czareaquino</td>\n",
       "      <td>wants to hang out with friends SOON!</td>\n",
       "      <td>joy</td>\n",
       "    </tr>\n",
       "    <tr>\n",
       "      <th>4</th>\n",
       "      <td>1956968416</td>\n",
       "      <td>neutral</td>\n",
       "      <td>xkilljoyx</td>\n",
       "      <td>@dannycastillo We want to trade with someone w...</td>\n",
       "      <td>desire</td>\n",
       "    </tr>\n",
       "    <tr>\n",
       "      <th>...</th>\n",
       "      <td>...</td>\n",
       "      <td>...</td>\n",
       "      <td>...</td>\n",
       "      <td>...</td>\n",
       "      <td>...</td>\n",
       "    </tr>\n",
       "    <tr>\n",
       "      <th>95</th>\n",
       "      <td>1956989514</td>\n",
       "      <td>sadness</td>\n",
       "      <td>yellowduckx</td>\n",
       "      <td>@sweeetnspicy hiii im on my ipod...i cant fall...</td>\n",
       "      <td>neutral</td>\n",
       "    </tr>\n",
       "    <tr>\n",
       "      <th>96</th>\n",
       "      <td>1956989526</td>\n",
       "      <td>sadness</td>\n",
       "      <td>KaKuBby</td>\n",
       "      <td>dont wanna work 11-830 tomorrow  but i get paid</td>\n",
       "      <td>disapproval</td>\n",
       "    </tr>\n",
       "    <tr>\n",
       "      <th>97</th>\n",
       "      <td>1956989560</td>\n",
       "      <td>sadness</td>\n",
       "      <td>benchidol</td>\n",
       "      <td>feels sad coz i wasnt able to play with the gu...</td>\n",
       "      <td>sadness</td>\n",
       "    </tr>\n",
       "    <tr>\n",
       "      <th>98</th>\n",
       "      <td>1956989561</td>\n",
       "      <td>neutral</td>\n",
       "      <td>outrAjusCharmer</td>\n",
       "      <td>PrinceCharming</td>\n",
       "      <td>neutral</td>\n",
       "    </tr>\n",
       "    <tr>\n",
       "      <th>99</th>\n",
       "      <td>1956989601</td>\n",
       "      <td>hate</td>\n",
       "      <td>M0anique</td>\n",
       "      <td>@ cayogial i wanted to come to BZ this summer ...</td>\n",
       "      <td>disappointment</td>\n",
       "    </tr>\n",
       "  </tbody>\n",
       "</table>\n",
       "<p>100 rows × 5 columns</p>\n",
       "</div>"
      ],
      "text/plain": [
       "      tweet_id   sentiment           author  \\\n",
       "0   1956967341       empty       xoshayzers   \n",
       "1   1956967666     sadness        wannamama   \n",
       "2   1956967696     sadness        coolfunky   \n",
       "3   1956967789  enthusiasm      czareaquino   \n",
       "4   1956968416     neutral        xkilljoyx   \n",
       "..         ...         ...              ...   \n",
       "95  1956989514     sadness      yellowduckx   \n",
       "96  1956989526     sadness          KaKuBby   \n",
       "97  1956989560     sadness        benchidol   \n",
       "98  1956989561     neutral  outrAjusCharmer   \n",
       "99  1956989601        hate         M0anique   \n",
       "\n",
       "                                              content         emotion  \n",
       "0   @tiffanylue i know  i was listenin to bad habi...         neutral  \n",
       "1   Layin n bed with a headache  ughhhh...waitin o...         neutral  \n",
       "2                 Funeral ceremony...gloomy friday...             joy  \n",
       "3                wants to hang out with friends SOON!             joy  \n",
       "4   @dannycastillo We want to trade with someone w...          desire  \n",
       "..                                                ...             ...  \n",
       "95  @sweeetnspicy hiii im on my ipod...i cant fall...         neutral  \n",
       "96    dont wanna work 11-830 tomorrow  but i get paid     disapproval  \n",
       "97  feels sad coz i wasnt able to play with the gu...         sadness  \n",
       "98                                     PrinceCharming         neutral  \n",
       "99  @ cayogial i wanted to come to BZ this summer ...  disappointment  \n",
       "\n",
       "[100 rows x 5 columns]"
      ]
     },
     "execution_count": 30,
     "metadata": {},
     "output_type": "execute_result"
    }
   ],
   "source": [
    "large_text"
   ]
  },
  {
   "cell_type": "code",
   "execution_count": 31,
   "id": "ec7d4145",
   "metadata": {},
   "outputs": [
    {
     "data": {
      "text/plain": [
       "Text(0.5, 1.0, 'Emotion Distribution')"
      ]
     },
     "execution_count": 31,
     "metadata": {},
     "output_type": "execute_result"
    },
    {
     "data": {
      "image/png": "[encoded data removed]",
      "text/plain": [
       "<Figure size 432x288 with 1 Axes>"
      ]
     },
     "metadata": {
      "needs_background": "light"
     },
     "output_type": "display_data"
    }
   ],
   "source": [
    "import seaborn as sns\n",
    "sns.countplot(data = large_text, y = 'emotion').set_title(\"Emotion Distribution\")"
   ]
  },
  {
   "cell_type": "code",
   "execution_count": null,
   "id": "c58e7b64",
   "metadata": {},
   "outputs": [],
   "source": []
  }
 ],
 "metadata": {
  "kernelspec": {
   "display_name": "Python 3 (ipykernel)",
   "language": "python",
   "name": "python3"
  },
  "language_info": {
   "codemirror_mode": {
    "name": "ipython",
    "version": 3
   },
   "file_extension": ".py",
   "mimetype": "text/x-python",
   "name": "python",
   "nbconvert_exporter": "python",
   "pygments_lexer": "ipython3",
   "version": "3.9.7"
  }
 },
 "nbformat": 4,
 "nbformat_minor": 5
}
